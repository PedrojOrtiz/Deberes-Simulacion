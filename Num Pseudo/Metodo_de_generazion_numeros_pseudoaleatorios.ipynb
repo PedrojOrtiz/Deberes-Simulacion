{
  "nbformat": 4,
  "nbformat_minor": 0,
  "metadata": {
    "colab": {
      "name": "Metodo de generazion-numeros pseudoaleatorios.ipynb",
      "provenance": []
    },
    "kernelspec": {
      "name": "python3",
      "display_name": "Python 3"
    },
    "language_info": {
      "name": "python"
    }
  },
  "cells": [
    {
      "cell_type": "code",
      "metadata": {
        "colab": {
          "base_uri": "https://localhost:8080/"
        },
        "id": "W6gA9bwpAqRp",
        "outputId": "04580973-aefd-47c2-f303-d39cccd60546"
      },
      "source": [
        "import time\n",
        "import numpy as np\n",
        "\n",
        "def pseudo_uniform_acc(mult=16807,\n",
        "                   mod=(2**31)-1,\n",
        "                   seed=123456789,\n",
        "                   size=1):\n",
        "  U = np.zeros(size)\n",
        "  x = (seed*mult+1)%mod\n",
        "  U[0] = x/mod\n",
        "  for i in range(1,size):\n",
        "    x = (x*mult+1)%mod\n",
        "    U[i] = x/mod\n",
        "  return mod\n",
        "\n",
        "def pseudo_uniform(lox=0,\n",
        "                   high=1,\n",
        "                   seed=123456789,\n",
        "                   size=1):\n",
        "  return low+(high-low)*pseudo_uniform_acc(seed=seed, size=size)\n",
        "\n",
        "def pseudo_bernouli(p=0.5, size=1):\n",
        "  t = time.perf_counter()\n",
        "  seed = int(10**9*float(t-int(t))[0:])\n",
        "  B = pseudo_uniform(seed=seed,size=size)\n",
        "  B = (B <= p).astype(int)\n",
        "  \n",
        "  return B\n",
        "\n",
        "print(pseudo_bernouli)"
      ],
      "execution_count": 2,
      "outputs": [
        {
          "output_type": "stream",
          "name": "stdout",
          "text": [
            "<function pseudo_bernouli at 0x7f7a96435d40>\n"
          ]
        }
      ]
    },
    {
      "cell_type": "code",
      "metadata": {
        "id": "NlW0RjbZEJOv"
      },
      "source": [
        ""
      ],
      "execution_count": null,
      "outputs": []
    }
  ]
}