{
  "nbformat": 4,
  "nbformat_minor": 0,
  "metadata": {
    "colab": {
      "name": "Prueba_1.ipynb",
      "provenance": [],
      "collapsed_sections": []
    },
    "kernelspec": {
      "name": "python3",
      "display_name": "Python 3"
    },
    "language_info": {
      "name": "python"
    }
  },
  "cells": [
    {
      "cell_type": "code",
      "metadata": {
        "id": "lXdykyvH3Q2R"
      },
      "source": [
        "#importar las librerias necesarias\n",
        "import matplotlib.pyplot as plt\n",
        "import numpy as np\n",
        "import pandas as pd\n",
        "import io\n",
        "from google.colab import files\n",
        "import plotly.graph_objects as go"
      ],
      "execution_count": 2,
      "outputs": []
    },
    {
      "cell_type": "code",
      "metadata": {
        "colab": {
          "base_uri": "https://localhost:8080/",
          "height": 204
        },
        "id": "zHMC0IuNCMCZ",
        "outputId": "19cfe27a-8709-4833-fdad-7eaef162aa64"
      },
      "source": [
        "#Trabajar con otro tipo de datos Fifa\n",
        "population = pd.read_csv('1.Poblaciones.csv', sep = ';',encoding='utf-8')\n",
        "#imprimir los primeros 5 datos del archivo\n",
        "population.head(5)"
      ],
      "execution_count": 22,
      "outputs": [
        {
          "output_type": "execute_result",
          "data": {
            "text/html": [
              "<div>\n",
              "<style scoped>\n",
              "    .dataframe tbody tr th:only-of-type {\n",
              "        vertical-align: middle;\n",
              "    }\n",
              "\n",
              "    .dataframe tbody tr th {\n",
              "        vertical-align: top;\n",
              "    }\n",
              "\n",
              "    .dataframe thead th {\n",
              "        text-align: right;\n",
              "    }\n",
              "</style>\n",
              "<table border=\"1\" class=\"dataframe\">\n",
              "  <thead>\n",
              "    <tr style=\"text-align: right;\">\n",
              "      <th></th>\n",
              "      <th>Encuesta</th>\n",
              "      <th>Periodo</th>\n",
              "      <th>Indicadores</th>\n",
              "      <th>Total</th>\n",
              "      <th>Urbana</th>\n",
              "      <th>Rural</th>\n",
              "      <th>Hombre</th>\n",
              "      <th>Mujer</th>\n",
              "    </tr>\n",
              "  </thead>\n",
              "  <tbody>\n",
              "    <tr>\n",
              "      <th>0</th>\n",
              "      <td>ENEMDU</td>\n",
              "      <td>1/12/2007</td>\n",
              "      <td>Poblacion Total</td>\n",
              "      <td>13.682.302</td>\n",
              "      <td>9.066.209</td>\n",
              "      <td>4.616.093</td>\n",
              "      <td>6.768.646</td>\n",
              "      <td>6.913.656</td>\n",
              "    </tr>\n",
              "    <tr>\n",
              "      <th>1</th>\n",
              "      <td>ENEMDU</td>\n",
              "      <td>1/12/2007</td>\n",
              "      <td>Poblacion menor de 15 aoos</td>\n",
              "      <td>4.372.812</td>\n",
              "      <td>2.723.124</td>\n",
              "      <td>1.649.688</td>\n",
              "      <td>2.226.618</td>\n",
              "      <td>2.146.194</td>\n",
              "    </tr>\n",
              "    <tr>\n",
              "      <th>2</th>\n",
              "      <td>ENEMDU</td>\n",
              "      <td>1/12/2007</td>\n",
              "      <td>Poblacion en Edad de Trabajar (PET)</td>\n",
              "      <td>9.309.490</td>\n",
              "      <td>6.343.085</td>\n",
              "      <td>2.966.404</td>\n",
              "      <td>4.542.028</td>\n",
              "      <td>4.767.462</td>\n",
              "    </tr>\n",
              "    <tr>\n",
              "      <th>3</th>\n",
              "      <td>ENEMDU</td>\n",
              "      <td>1/12/2007</td>\n",
              "      <td>Poblacion Economicamente Activa</td>\n",
              "      <td>6.336.029</td>\n",
              "      <td>4.227.702</td>\n",
              "      <td>2.108.328</td>\n",
              "      <td>3.777.232</td>\n",
              "      <td>2.558.798</td>\n",
              "    </tr>\n",
              "    <tr>\n",
              "      <th>4</th>\n",
              "      <td>ENEMDU</td>\n",
              "      <td>1/12/2007</td>\n",
              "      <td>Empleo</td>\n",
              "      <td>6.019.332</td>\n",
              "      <td>3.971.040</td>\n",
              "      <td>2.048.292</td>\n",
              "      <td>3.632.314</td>\n",
              "      <td>2.387.018</td>\n",
              "    </tr>\n",
              "  </tbody>\n",
              "</table>\n",
              "</div>"
            ],
            "text/plain": [
              "  Encuesta    Periodo  ...     Hombre      Mujer\n",
              "0   ENEMDU  1/12/2007  ...  6.768.646  6.913.656\n",
              "1   ENEMDU  1/12/2007  ...  2.226.618  2.146.194\n",
              "2   ENEMDU  1/12/2007  ...  4.542.028  4.767.462\n",
              "3   ENEMDU  1/12/2007  ...  3.777.232  2.558.798\n",
              "4   ENEMDU  1/12/2007  ...  3.632.314  2.387.018\n",
              "\n",
              "[5 rows x 8 columns]"
            ]
          },
          "metadata": {},
          "execution_count": 22
        }
      ]
    },
    {
      "cell_type": "markdown",
      "metadata": {
        "id": "4kVvQq2Zlcq6"
      },
      "source": [
        "\n",
        "##Generar graficas y reportes del total de personas empleadas y desempleadas por año."
      ]
    },
    {
      "cell_type": "code",
      "metadata": {
        "colab": {
          "base_uri": "https://localhost:8080/",
          "height": 289
        },
        "id": "xMczwo0WCXYP",
        "outputId": "37f3bcb5-e233-46ef-f4fa-554a1a59642e"
      },
      "source": [
        "population['fecha'] =  pd.to_datetime(population['Periodo'], infer_datetime_format=True)\n",
        "population.head(5)"
      ],
      "execution_count": 23,
      "outputs": [
        {
          "output_type": "execute_result",
          "data": {
            "text/html": [
              "<div>\n",
              "<style scoped>\n",
              "    .dataframe tbody tr th:only-of-type {\n",
              "        vertical-align: middle;\n",
              "    }\n",
              "\n",
              "    .dataframe tbody tr th {\n",
              "        vertical-align: top;\n",
              "    }\n",
              "\n",
              "    .dataframe thead th {\n",
              "        text-align: right;\n",
              "    }\n",
              "</style>\n",
              "<table border=\"1\" class=\"dataframe\">\n",
              "  <thead>\n",
              "    <tr style=\"text-align: right;\">\n",
              "      <th></th>\n",
              "      <th>Encuesta</th>\n",
              "      <th>Periodo</th>\n",
              "      <th>Indicadores</th>\n",
              "      <th>Total</th>\n",
              "      <th>Urbana</th>\n",
              "      <th>Rural</th>\n",
              "      <th>Hombre</th>\n",
              "      <th>Mujer</th>\n",
              "      <th>fecha</th>\n",
              "    </tr>\n",
              "  </thead>\n",
              "  <tbody>\n",
              "    <tr>\n",
              "      <th>0</th>\n",
              "      <td>ENEMDU</td>\n",
              "      <td>1/12/2007</td>\n",
              "      <td>Poblacion Total</td>\n",
              "      <td>13.682.302</td>\n",
              "      <td>9.066.209</td>\n",
              "      <td>4.616.093</td>\n",
              "      <td>6.768.646</td>\n",
              "      <td>6.913.656</td>\n",
              "      <td>2007-01-12</td>\n",
              "    </tr>\n",
              "    <tr>\n",
              "      <th>1</th>\n",
              "      <td>ENEMDU</td>\n",
              "      <td>1/12/2007</td>\n",
              "      <td>Poblacion menor de 15 aoos</td>\n",
              "      <td>4.372.812</td>\n",
              "      <td>2.723.124</td>\n",
              "      <td>1.649.688</td>\n",
              "      <td>2.226.618</td>\n",
              "      <td>2.146.194</td>\n",
              "      <td>2007-01-12</td>\n",
              "    </tr>\n",
              "    <tr>\n",
              "      <th>2</th>\n",
              "      <td>ENEMDU</td>\n",
              "      <td>1/12/2007</td>\n",
              "      <td>Poblacion en Edad de Trabajar (PET)</td>\n",
              "      <td>9.309.490</td>\n",
              "      <td>6.343.085</td>\n",
              "      <td>2.966.404</td>\n",
              "      <td>4.542.028</td>\n",
              "      <td>4.767.462</td>\n",
              "      <td>2007-01-12</td>\n",
              "    </tr>\n",
              "    <tr>\n",
              "      <th>3</th>\n",
              "      <td>ENEMDU</td>\n",
              "      <td>1/12/2007</td>\n",
              "      <td>Poblacion Economicamente Activa</td>\n",
              "      <td>6.336.029</td>\n",
              "      <td>4.227.702</td>\n",
              "      <td>2.108.328</td>\n",
              "      <td>3.777.232</td>\n",
              "      <td>2.558.798</td>\n",
              "      <td>2007-01-12</td>\n",
              "    </tr>\n",
              "    <tr>\n",
              "      <th>4</th>\n",
              "      <td>ENEMDU</td>\n",
              "      <td>1/12/2007</td>\n",
              "      <td>Empleo</td>\n",
              "      <td>6.019.332</td>\n",
              "      <td>3.971.040</td>\n",
              "      <td>2.048.292</td>\n",
              "      <td>3.632.314</td>\n",
              "      <td>2.387.018</td>\n",
              "      <td>2007-01-12</td>\n",
              "    </tr>\n",
              "  </tbody>\n",
              "</table>\n",
              "</div>"
            ],
            "text/plain": [
              "  Encuesta    Periodo  ...      Mujer      fecha\n",
              "0   ENEMDU  1/12/2007  ...  6.913.656 2007-01-12\n",
              "1   ENEMDU  1/12/2007  ...  2.146.194 2007-01-12\n",
              "2   ENEMDU  1/12/2007  ...  4.767.462 2007-01-12\n",
              "3   ENEMDU  1/12/2007  ...  2.558.798 2007-01-12\n",
              "4   ENEMDU  1/12/2007  ...  2.387.018 2007-01-12\n",
              "\n",
              "[5 rows x 9 columns]"
            ]
          },
          "metadata": {},
          "execution_count": 23
        }
      ]
    },
    {
      "cell_type": "code",
      "metadata": {
        "id": "NTZ7jt4emGcI"
      },
      "source": [
        "\n",
        "\n",
        "year_grouped = population.groupby([population['fecha'].map(lambda x: x.year),population['Indicadores']]).last()\n",
        "\n",
        "year_grouped_reset = year_grouped.droplevel(0).reset_index()\n",
        "year_grouped_reset.head(10)\n",
        "year_grouped_reset2 = year_grouped_reset\n"
      ],
      "execution_count": 27,
      "outputs": []
    },
    {
      "cell_type": "code",
      "metadata": {
        "colab": {
          "base_uri": "https://localhost:8080/",
          "height": 359
        },
        "id": "2YuPAtjiyEbG",
        "outputId": "8b3c2166-99a9-41e9-aa0d-b78ba61f23b9"
      },
      "source": [
        "year_grouped_reset = year_grouped_reset.loc[(year_grouped_reset['Indicadores'] == 'Desempleo') | (year_grouped_reset['Indicadores'] == 'Empleo')]\n",
        "year_grouped_reset.head(10)"
      ],
      "execution_count": 6,
      "outputs": [
        {
          "output_type": "execute_result",
          "data": {
            "text/html": [
              "<div>\n",
              "<style scoped>\n",
              "    .dataframe tbody tr th:only-of-type {\n",
              "        vertical-align: middle;\n",
              "    }\n",
              "\n",
              "    .dataframe tbody tr th {\n",
              "        vertical-align: top;\n",
              "    }\n",
              "\n",
              "    .dataframe thead th {\n",
              "        text-align: right;\n",
              "    }\n",
              "</style>\n",
              "<table border=\"1\" class=\"dataframe\">\n",
              "  <thead>\n",
              "    <tr style=\"text-align: right;\">\n",
              "      <th></th>\n",
              "      <th>Indicadores</th>\n",
              "      <th>Encuesta</th>\n",
              "      <th>Periodo</th>\n",
              "      <th>Total</th>\n",
              "      <th>Urbana</th>\n",
              "      <th>Rural</th>\n",
              "      <th>Hombre</th>\n",
              "      <th>Mujer</th>\n",
              "      <th>fecha</th>\n",
              "    </tr>\n",
              "  </thead>\n",
              "  <tbody>\n",
              "    <tr>\n",
              "      <th>0</th>\n",
              "      <td>Desempleo</td>\n",
              "      <td>ENEMDU</td>\n",
              "      <td>1/12/2007</td>\n",
              "      <td>316.697</td>\n",
              "      <td>256.662</td>\n",
              "      <td>60.036</td>\n",
              "      <td>144.918</td>\n",
              "      <td>171.780</td>\n",
              "      <td>2007-01-12</td>\n",
              "    </tr>\n",
              "    <tr>\n",
              "      <th>5</th>\n",
              "      <td>Empleo</td>\n",
              "      <td>ENEMDU</td>\n",
              "      <td>1/12/2007</td>\n",
              "      <td>6.019.332</td>\n",
              "      <td>3.971.040</td>\n",
              "      <td>2.048.292</td>\n",
              "      <td>3.632.314</td>\n",
              "      <td>2.387.018</td>\n",
              "      <td>2007-01-12</td>\n",
              "    </tr>\n",
              "    <tr>\n",
              "      <th>18</th>\n",
              "      <td>Desempleo</td>\n",
              "      <td>ENEMDU</td>\n",
              "      <td>1/12/2008</td>\n",
              "      <td>380.026</td>\n",
              "      <td>317.011</td>\n",
              "      <td>63.015</td>\n",
              "      <td>165.296</td>\n",
              "      <td>214.730</td>\n",
              "      <td>2008-01-12</td>\n",
              "    </tr>\n",
              "    <tr>\n",
              "      <th>23</th>\n",
              "      <td>Empleo</td>\n",
              "      <td>ENEMDU</td>\n",
              "      <td>1/12/2008</td>\n",
              "      <td>6.005.395</td>\n",
              "      <td>4.012.298</td>\n",
              "      <td>1.993.097</td>\n",
              "      <td>3.635.236</td>\n",
              "      <td>2.370.159</td>\n",
              "      <td>2008-01-12</td>\n",
              "    </tr>\n",
              "    <tr>\n",
              "      <th>36</th>\n",
              "      <td>Desempleo</td>\n",
              "      <td>ENEMDU</td>\n",
              "      <td>1/12/2009</td>\n",
              "      <td>423.802</td>\n",
              "      <td>347.068</td>\n",
              "      <td>76.734</td>\n",
              "      <td>201.625</td>\n",
              "      <td>222.177</td>\n",
              "      <td>2009-01-12</td>\n",
              "    </tr>\n",
              "    <tr>\n",
              "      <th>41</th>\n",
              "      <td>Empleo</td>\n",
              "      <td>ENEMDU</td>\n",
              "      <td>1/12/2009</td>\n",
              "      <td>6.125.135</td>\n",
              "      <td>4.050.179</td>\n",
              "      <td>2.074.956</td>\n",
              "      <td>3.699.840</td>\n",
              "      <td>2.425.296</td>\n",
              "      <td>2009-01-12</td>\n",
              "    </tr>\n",
              "    <tr>\n",
              "      <th>54</th>\n",
              "      <td>Desempleo</td>\n",
              "      <td>ENEMDU</td>\n",
              "      <td>1/12/2010</td>\n",
              "      <td>323.027</td>\n",
              "      <td>264.587</td>\n",
              "      <td>58.440</td>\n",
              "      <td>159.583</td>\n",
              "      <td>163.443</td>\n",
              "      <td>2010-01-12</td>\n",
              "    </tr>\n",
              "    <tr>\n",
              "      <th>59</th>\n",
              "      <td>Empleo</td>\n",
              "      <td>ENEMDU</td>\n",
              "      <td>1/12/2010</td>\n",
              "      <td>6.113.230</td>\n",
              "      <td>4.054.350</td>\n",
              "      <td>2.058.880</td>\n",
              "      <td>3.738.807</td>\n",
              "      <td>2.374.423</td>\n",
              "      <td>2010-01-12</td>\n",
              "    </tr>\n",
              "    <tr>\n",
              "      <th>72</th>\n",
              "      <td>Desempleo</td>\n",
              "      <td>ENEMDU</td>\n",
              "      <td>1/12/2011</td>\n",
              "      <td>276.787</td>\n",
              "      <td>224.678</td>\n",
              "      <td>52.109</td>\n",
              "      <td>131.747</td>\n",
              "      <td>145.040</td>\n",
              "      <td>2011-01-12</td>\n",
              "    </tr>\n",
              "    <tr>\n",
              "      <th>77</th>\n",
              "      <td>Empleo</td>\n",
              "      <td>ENEMDU</td>\n",
              "      <td>1/12/2011</td>\n",
              "      <td>6.304.834</td>\n",
              "      <td>4.212.188</td>\n",
              "      <td>2.092.646</td>\n",
              "      <td>3.844.507</td>\n",
              "      <td>2.460.327</td>\n",
              "      <td>2011-01-12</td>\n",
              "    </tr>\n",
              "  </tbody>\n",
              "</table>\n",
              "</div>"
            ],
            "text/plain": [
              "   Indicadores Encuesta    Periodo  ...     Hombre      Mujer      fecha\n",
              "0    Desempleo   ENEMDU  1/12/2007  ...    144.918    171.780 2007-01-12\n",
              "5       Empleo   ENEMDU  1/12/2007  ...  3.632.314  2.387.018 2007-01-12\n",
              "18   Desempleo   ENEMDU  1/12/2008  ...    165.296    214.730 2008-01-12\n",
              "23      Empleo   ENEMDU  1/12/2008  ...  3.635.236  2.370.159 2008-01-12\n",
              "36   Desempleo   ENEMDU  1/12/2009  ...    201.625    222.177 2009-01-12\n",
              "41      Empleo   ENEMDU  1/12/2009  ...  3.699.840  2.425.296 2009-01-12\n",
              "54   Desempleo   ENEMDU  1/12/2010  ...    159.583    163.443 2010-01-12\n",
              "59      Empleo   ENEMDU  1/12/2010  ...  3.738.807  2.374.423 2010-01-12\n",
              "72   Desempleo   ENEMDU  1/12/2011  ...    131.747    145.040 2011-01-12\n",
              "77      Empleo   ENEMDU  1/12/2011  ...  3.844.507  2.460.327 2011-01-12\n",
              "\n",
              "[10 rows x 9 columns]"
            ]
          },
          "metadata": {},
          "execution_count": 6
        }
      ]
    },
    {
      "cell_type": "code",
      "metadata": {
        "colab": {
          "base_uri": "https://localhost:8080/",
          "height": 359
        },
        "id": "NLeYDkg30wP0",
        "outputId": "140d845f-a7cb-40b5-e669-911a98f60626"
      },
      "source": [
        "emp_desemp_por_anio = year_grouped_reset[[\"Indicadores\", \"fecha\", \"Total\"]]\n",
        "emp_desemp_por_anio.head(10)"
      ],
      "execution_count": 7,
      "outputs": [
        {
          "output_type": "execute_result",
          "data": {
            "text/html": [
              "<div>\n",
              "<style scoped>\n",
              "    .dataframe tbody tr th:only-of-type {\n",
              "        vertical-align: middle;\n",
              "    }\n",
              "\n",
              "    .dataframe tbody tr th {\n",
              "        vertical-align: top;\n",
              "    }\n",
              "\n",
              "    .dataframe thead th {\n",
              "        text-align: right;\n",
              "    }\n",
              "</style>\n",
              "<table border=\"1\" class=\"dataframe\">\n",
              "  <thead>\n",
              "    <tr style=\"text-align: right;\">\n",
              "      <th></th>\n",
              "      <th>Indicadores</th>\n",
              "      <th>fecha</th>\n",
              "      <th>Total</th>\n",
              "    </tr>\n",
              "  </thead>\n",
              "  <tbody>\n",
              "    <tr>\n",
              "      <th>0</th>\n",
              "      <td>Desempleo</td>\n",
              "      <td>2007-01-12</td>\n",
              "      <td>316.697</td>\n",
              "    </tr>\n",
              "    <tr>\n",
              "      <th>5</th>\n",
              "      <td>Empleo</td>\n",
              "      <td>2007-01-12</td>\n",
              "      <td>6.019.332</td>\n",
              "    </tr>\n",
              "    <tr>\n",
              "      <th>18</th>\n",
              "      <td>Desempleo</td>\n",
              "      <td>2008-01-12</td>\n",
              "      <td>380.026</td>\n",
              "    </tr>\n",
              "    <tr>\n",
              "      <th>23</th>\n",
              "      <td>Empleo</td>\n",
              "      <td>2008-01-12</td>\n",
              "      <td>6.005.395</td>\n",
              "    </tr>\n",
              "    <tr>\n",
              "      <th>36</th>\n",
              "      <td>Desempleo</td>\n",
              "      <td>2009-01-12</td>\n",
              "      <td>423.802</td>\n",
              "    </tr>\n",
              "    <tr>\n",
              "      <th>41</th>\n",
              "      <td>Empleo</td>\n",
              "      <td>2009-01-12</td>\n",
              "      <td>6.125.135</td>\n",
              "    </tr>\n",
              "    <tr>\n",
              "      <th>54</th>\n",
              "      <td>Desempleo</td>\n",
              "      <td>2010-01-12</td>\n",
              "      <td>323.027</td>\n",
              "    </tr>\n",
              "    <tr>\n",
              "      <th>59</th>\n",
              "      <td>Empleo</td>\n",
              "      <td>2010-01-12</td>\n",
              "      <td>6.113.230</td>\n",
              "    </tr>\n",
              "    <tr>\n",
              "      <th>72</th>\n",
              "      <td>Desempleo</td>\n",
              "      <td>2011-01-12</td>\n",
              "      <td>276.787</td>\n",
              "    </tr>\n",
              "    <tr>\n",
              "      <th>77</th>\n",
              "      <td>Empleo</td>\n",
              "      <td>2011-01-12</td>\n",
              "      <td>6.304.834</td>\n",
              "    </tr>\n",
              "  </tbody>\n",
              "</table>\n",
              "</div>"
            ],
            "text/plain": [
              "   Indicadores      fecha      Total\n",
              "0    Desempleo 2007-01-12    316.697\n",
              "5       Empleo 2007-01-12  6.019.332\n",
              "18   Desempleo 2008-01-12    380.026\n",
              "23      Empleo 2008-01-12  6.005.395\n",
              "36   Desempleo 2009-01-12    423.802\n",
              "41      Empleo 2009-01-12  6.125.135\n",
              "54   Desempleo 2010-01-12    323.027\n",
              "59      Empleo 2010-01-12  6.113.230\n",
              "72   Desempleo 2011-01-12    276.787\n",
              "77      Empleo 2011-01-12  6.304.834"
            ]
          },
          "metadata": {},
          "execution_count": 7
        }
      ]
    },
    {
      "cell_type": "code",
      "metadata": {
        "colab": {
          "base_uri": "https://localhost:8080/"
        },
        "id": "bOOX0OhRDaWK",
        "outputId": "851d257b-22d3-43d8-aa62-f804f50f4dc8"
      },
      "source": [
        "emp_desemp_por_anio['fecha'] = emp_desemp_por_anio['fecha'].dt.year.astype(int)\n",
        "emp_desemp_por_anio['Total'] = emp_desemp_por_anio['Total'].astype(str).str.replace('.','').astype(float)"
      ],
      "execution_count": 8,
      "outputs": [
        {
          "output_type": "stream",
          "name": "stderr",
          "text": [
            "/usr/local/lib/python3.7/dist-packages/ipykernel_launcher.py:1: SettingWithCopyWarning:\n",
            "\n",
            "\n",
            "A value is trying to be set on a copy of a slice from a DataFrame.\n",
            "Try using .loc[row_indexer,col_indexer] = value instead\n",
            "\n",
            "See the caveats in the documentation: https://pandas.pydata.org/pandas-docs/stable/user_guide/indexing.html#returning-a-view-versus-a-copy\n",
            "\n",
            "/usr/local/lib/python3.7/dist-packages/ipykernel_launcher.py:2: SettingWithCopyWarning:\n",
            "\n",
            "\n",
            "A value is trying to be set on a copy of a slice from a DataFrame.\n",
            "Try using .loc[row_indexer,col_indexer] = value instead\n",
            "\n",
            "See the caveats in the documentation: https://pandas.pydata.org/pandas-docs/stable/user_guide/indexing.html#returning-a-view-versus-a-copy\n",
            "\n"
          ]
        }
      ]
    },
    {
      "cell_type": "code",
      "metadata": {
        "colab": {
          "base_uri": "https://localhost:8080/",
          "height": 390
        },
        "id": "XuYuA-3C-bI1",
        "outputId": "4587fb82-ba9c-4b78-bdb5-43315e4e671a"
      },
      "source": [
        "emp_desemp_por_anio_pivot = emp_desemp_por_anio.pivot(index='fecha', columns='Indicadores', values='Total').fillna(0)\n",
        "emp_desemp_por_anio_pivot.head(10)"
      ],
      "execution_count": 9,
      "outputs": [
        {
          "output_type": "execute_result",
          "data": {
            "text/html": [
              "<div>\n",
              "<style scoped>\n",
              "    .dataframe tbody tr th:only-of-type {\n",
              "        vertical-align: middle;\n",
              "    }\n",
              "\n",
              "    .dataframe tbody tr th {\n",
              "        vertical-align: top;\n",
              "    }\n",
              "\n",
              "    .dataframe thead th {\n",
              "        text-align: right;\n",
              "    }\n",
              "</style>\n",
              "<table border=\"1\" class=\"dataframe\">\n",
              "  <thead>\n",
              "    <tr style=\"text-align: right;\">\n",
              "      <th>Indicadores</th>\n",
              "      <th>Desempleo</th>\n",
              "      <th>Empleo</th>\n",
              "    </tr>\n",
              "    <tr>\n",
              "      <th>fecha</th>\n",
              "      <th></th>\n",
              "      <th></th>\n",
              "    </tr>\n",
              "  </thead>\n",
              "  <tbody>\n",
              "    <tr>\n",
              "      <th>2007</th>\n",
              "      <td>316697.0</td>\n",
              "      <td>6019332.0</td>\n",
              "    </tr>\n",
              "    <tr>\n",
              "      <th>2008</th>\n",
              "      <td>380026.0</td>\n",
              "      <td>6005395.0</td>\n",
              "    </tr>\n",
              "    <tr>\n",
              "      <th>2009</th>\n",
              "      <td>423802.0</td>\n",
              "      <td>6125135.0</td>\n",
              "    </tr>\n",
              "    <tr>\n",
              "      <th>2010</th>\n",
              "      <td>323027.0</td>\n",
              "      <td>6113230.0</td>\n",
              "    </tr>\n",
              "    <tr>\n",
              "      <th>2011</th>\n",
              "      <td>276787.0</td>\n",
              "      <td>6304834.0</td>\n",
              "    </tr>\n",
              "    <tr>\n",
              "      <th>2012</th>\n",
              "      <td>276174.0</td>\n",
              "      <td>6424840.0</td>\n",
              "    </tr>\n",
              "    <tr>\n",
              "      <th>2013</th>\n",
              "      <td>288745.0</td>\n",
              "      <td>6664241.0</td>\n",
              "    </tr>\n",
              "    <tr>\n",
              "      <th>2014</th>\n",
              "      <td>273414.0</td>\n",
              "      <td>6921107.0</td>\n",
              "    </tr>\n",
              "    <tr>\n",
              "      <th>2015</th>\n",
              "      <td>357892.0</td>\n",
              "      <td>7140636.0</td>\n",
              "    </tr>\n",
              "    <tr>\n",
              "      <th>2016</th>\n",
              "      <td>410441.0</td>\n",
              "      <td>7463579.0</td>\n",
              "    </tr>\n",
              "  </tbody>\n",
              "</table>\n",
              "</div>"
            ],
            "text/plain": [
              "Indicadores  Desempleo     Empleo\n",
              "fecha                            \n",
              "2007          316697.0  6019332.0\n",
              "2008          380026.0  6005395.0\n",
              "2009          423802.0  6125135.0\n",
              "2010          323027.0  6113230.0\n",
              "2011          276787.0  6304834.0\n",
              "2012          276174.0  6424840.0\n",
              "2013          288745.0  6664241.0\n",
              "2014          273414.0  6921107.0\n",
              "2015          357892.0  7140636.0\n",
              "2016          410441.0  7463579.0"
            ]
          },
          "metadata": {},
          "execution_count": 9
        }
      ]
    },
    {
      "cell_type": "markdown",
      "metadata": {
        "id": "DjTzZOL5-r_o"
      },
      "source": [
        ""
      ]
    },
    {
      "cell_type": "code",
      "metadata": {
        "colab": {
          "base_uri": "https://localhost:8080/",
          "height": 323
        },
        "id": "zIQat82v6djF",
        "outputId": "8c030393-e6cb-44d7-9318-aff2639c3cd9"
      },
      "source": [
        "\n",
        "emp_desemp_por_anio_pivot.plot(kind='bar', stacked=True)\n"
      ],
      "execution_count": 10,
      "outputs": [
        {
          "output_type": "execute_result",
          "data": {
            "text/plain": [
              "<matplotlib.axes._subplots.AxesSubplot at 0x7fcba5bb5850>"
            ]
          },
          "metadata": {},
          "execution_count": 10
        },
        {
          "output_type": "display_data",
          "data": {
            "image/png": "[encoded data removed]",
            "text/plain": [
              "<Figure size 432x288 with 1 Axes>"
            ]
          },
          "metadata": {
            "needs_background": "light"
          }
        }
      ]
    },
    {
      "cell_type": "markdown",
      "metadata": {
        "id": "p-c7X8lmJas2"
      },
      "source": [
        "## Generar grafico de pie por personas basadas en la sectorización de empleo."
      ]
    },
    {
      "cell_type": "code",
      "metadata": {
        "colab": {
          "base_uri": "https://localhost:8080/",
          "height": 204
        },
        "id": "-Q3-4sjE8JxM",
        "outputId": "6d8415ea-1388-4ac9-bfdd-772fd14422ce"
      },
      "source": [
        "sectorizacion=pd.read_csv('4. Sectorizacion del empleo.csv', sep = ';',encoding='latin1').dropna()\n",
        "sectorizacion_ultima=sectorizacion.transpose()\n",
        "sectorizacion_ultima.head()"
      ],
      "execution_count": 14,
      "outputs": [
        {
          "output_type": "execute_result",
          "data": {
            "text/html": [
              "<div>\n",
              "<style scoped>\n",
              "    .dataframe tbody tr th:only-of-type {\n",
              "        vertical-align: middle;\n",
              "    }\n",
              "\n",
              "    .dataframe tbody tr th {\n",
              "        vertical-align: top;\n",
              "    }\n",
              "\n",
              "    .dataframe thead th {\n",
              "        text-align: right;\n",
              "    }\n",
              "</style>\n",
              "<table border=\"1\" class=\"dataframe\">\n",
              "  <thead>\n",
              "    <tr style=\"text-align: right;\">\n",
              "      <th></th>\n",
              "      <th>0</th>\n",
              "      <th>1</th>\n",
              "      <th>2</th>\n",
              "      <th>3</th>\n",
              "    </tr>\n",
              "  </thead>\n",
              "  <tbody>\n",
              "    <tr>\n",
              "      <th>Periodo</th>\n",
              "      <td>Sector Formal</td>\n",
              "      <td>Sector Informal</td>\n",
              "      <td>Empleo Doméstico</td>\n",
              "      <td>No Clasificados por Sector</td>\n",
              "    </tr>\n",
              "    <tr>\n",
              "      <th>jun-07</th>\n",
              "      <td>-</td>\n",
              "      <td>-</td>\n",
              "      <td>-</td>\n",
              "      <td>-</td>\n",
              "    </tr>\n",
              "    <tr>\n",
              "      <th>sep-07</th>\n",
              "      <td>-</td>\n",
              "      <td>-</td>\n",
              "      <td>-</td>\n",
              "      <td>-</td>\n",
              "    </tr>\n",
              "    <tr>\n",
              "      <th>dic-07</th>\n",
              "      <td>41,00%</td>\n",
              "      <td>45,10%</td>\n",
              "      <td>3,30%</td>\n",
              "      <td>10,60%</td>\n",
              "    </tr>\n",
              "    <tr>\n",
              "      <th>mar-08</th>\n",
              "      <td>-</td>\n",
              "      <td>-</td>\n",
              "      <td>-</td>\n",
              "      <td>-</td>\n",
              "    </tr>\n",
              "  </tbody>\n",
              "</table>\n",
              "</div>"
            ],
            "text/plain": [
              "                     0  ...                           3\n",
              "Periodo  Sector Formal  ...  No Clasificados por Sector\n",
              "jun-07               -  ...                           -\n",
              "sep-07               -  ...                           -\n",
              "dic-07          41,00%  ...                      10,60%\n",
              "mar-08               -  ...                           -\n",
              "\n",
              "[5 rows x 4 columns]"
            ]
          },
          "metadata": {},
          "execution_count": 14
        }
      ]
    },
    {
      "cell_type": "code",
      "metadata": {
        "colab": {
          "base_uri": "https://localhost:8080/"
        },
        "id": "OdrF2KEx9bwG",
        "outputId": "ad1be678-95eb-469d-c4b0-9a3de44410f3"
      },
      "source": [
        "### oct-21 -> ultimo senso\n",
        "porcentaje_sectores=sectorizacion_ultima.loc['oct-21']\n",
        "porcentaje_sectores.head(10)"
      ],
      "execution_count": 16,
      "outputs": [
        {
          "output_type": "execute_result",
          "data": {
            "text/plain": [
              "0    41,40%\n",
              "1    52,20%\n",
              "2     2,20%\n",
              "3     4,20%\n",
              "Name: oct-21, dtype: object"
            ]
          },
          "metadata": {},
          "execution_count": 16
        }
      ]
    },
    {
      "cell_type": "code",
      "metadata": {
        "colab": {
          "base_uri": "https://localhost:8080/",
          "height": 618
        },
        "id": "I1V3KANe9f7h",
        "outputId": "62c5d4e2-2529-43df-9300-8c6a21c87b68"
      },
      "source": [
        "fig = plt.figure(figsize=(8,8))\n",
        "plt.title(\"Sectorizacion del empleo\")\n",
        "sectores = sectorizacion_ultima.loc['Periodo']\n",
        "plt.pie([41.4,52.2,2.2,4.2], labels = sectores)"
      ],
      "execution_count": 34,
      "outputs": [
        {
          "output_type": "execute_result",
          "data": {
            "text/plain": [
              "([<matplotlib.patches.Wedge at 0x7fcba4b978d0>,\n",
              "  <matplotlib.patches.Wedge at 0x7fcba4b97c90>,\n",
              "  <matplotlib.patches.Wedge at 0x7fcba4ba1310>,\n",
              "  <matplotlib.patches.Wedge at 0x7fcba4ba18d0>],\n",
              " [Text(0.2935921731659033, 1.0600960502971994, 'Sector Formal'),\n",
              "  Text(-0.49938947630209474, -0.9801072140121813, 'Sector Informal'),\n",
              "  Text(1.039569426194266, -0.3595767068681234, 'Empleo Doméstico'),\n",
              "  Text(1.090438411371068, -0.1447206654439566, 'No Clasificados por Sector')])"
            ]
          },
          "metadata": {},
          "execution_count": 34
        },
        {
          "output_type": "display_data",
          "data": {
            "image/png": "[encoded data removed]",
            "text/plain": [
              "<Figure size 576x576 with 1 Axes>"
            ]
          },
          "metadata": {}
        }
      ]
    },
    {
      "cell_type": "code",
      "metadata": {
        "colab": {
          "base_uri": "https://localhost:8080/",
          "height": 204
        },
        "id": "47hqXQqN90G2",
        "outputId": "c9ec5a97-0c07-42db-8fab-a4d639704912"
      },
      "source": [
        "subempleo = year_grouped_reset2.loc[(year_grouped_reset2['Indicadores'] == 'Subempleo')]\n",
        "empleo_pleno = year_grouped_reset2.loc[(year_grouped_reset2['Indicadores'] == 'Empleo Adecuado/Pleno')]\n",
        "empleo_no_pleno = year_grouped_reset2.loc[(year_grouped_reset2['Indicadores'] == 'Otro Empleo no pleno')]\n",
        "subempleo.head()"
      ],
      "execution_count": 28,
      "outputs": [
        {
          "output_type": "execute_result",
          "data": {
            "text/html": [
              "<div>\n",
              "<style scoped>\n",
              "    .dataframe tbody tr th:only-of-type {\n",
              "        vertical-align: middle;\n",
              "    }\n",
              "\n",
              "    .dataframe tbody tr th {\n",
              "        vertical-align: top;\n",
              "    }\n",
              "\n",
              "    .dataframe thead th {\n",
              "        text-align: right;\n",
              "    }\n",
              "</style>\n",
              "<table border=\"1\" class=\"dataframe\">\n",
              "  <thead>\n",
              "    <tr style=\"text-align: right;\">\n",
              "      <th></th>\n",
              "      <th>Indicadores</th>\n",
              "      <th>Encuesta</th>\n",
              "      <th>Periodo</th>\n",
              "      <th>Total</th>\n",
              "      <th>Urbana</th>\n",
              "      <th>Rural</th>\n",
              "      <th>Hombre</th>\n",
              "      <th>Mujer</th>\n",
              "      <th>fecha</th>\n",
              "    </tr>\n",
              "  </thead>\n",
              "  <tbody>\n",
              "    <tr>\n",
              "      <th>15</th>\n",
              "      <td>Subempleo</td>\n",
              "      <td>ENEMDU</td>\n",
              "      <td>1/12/2007</td>\n",
              "      <td>1.155.872</td>\n",
              "      <td>687.714</td>\n",
              "      <td>468.158</td>\n",
              "      <td>679.118</td>\n",
              "      <td>476.753</td>\n",
              "      <td>2007-01-12</td>\n",
              "    </tr>\n",
              "    <tr>\n",
              "      <th>33</th>\n",
              "      <td>Subempleo</td>\n",
              "      <td>ENEMDU</td>\n",
              "      <td>1/12/2008</td>\n",
              "      <td>957.978</td>\n",
              "      <td>588.824</td>\n",
              "      <td>369.155</td>\n",
              "      <td>549.097</td>\n",
              "      <td>408.881</td>\n",
              "      <td>2008-01-12</td>\n",
              "    </tr>\n",
              "    <tr>\n",
              "      <th>51</th>\n",
              "      <td>Subempleo</td>\n",
              "      <td>ENEMDU</td>\n",
              "      <td>1/12/2009</td>\n",
              "      <td>1.071.615</td>\n",
              "      <td>664.855</td>\n",
              "      <td>406.760</td>\n",
              "      <td>636.204</td>\n",
              "      <td>435.411</td>\n",
              "      <td>2009-01-12</td>\n",
              "    </tr>\n",
              "    <tr>\n",
              "      <th>69</th>\n",
              "      <td>Subempleo</td>\n",
              "      <td>ENEMDU</td>\n",
              "      <td>1/12/2010</td>\n",
              "      <td>889.255</td>\n",
              "      <td>559.150</td>\n",
              "      <td>330.106</td>\n",
              "      <td>550.026</td>\n",
              "      <td>339.229</td>\n",
              "      <td>2010-01-12</td>\n",
              "    </tr>\n",
              "    <tr>\n",
              "      <th>87</th>\n",
              "      <td>Subempleo</td>\n",
              "      <td>ENEMDU</td>\n",
              "      <td>1/12/2011</td>\n",
              "      <td>706.458</td>\n",
              "      <td>421.914</td>\n",
              "      <td>284.544</td>\n",
              "      <td>428.949</td>\n",
              "      <td>277.509</td>\n",
              "      <td>2011-01-12</td>\n",
              "    </tr>\n",
              "  </tbody>\n",
              "</table>\n",
              "</div>"
            ],
            "text/plain": [
              "   Indicadores Encuesta    Periodo  ...   Hombre    Mujer      fecha\n",
              "15   Subempleo   ENEMDU  1/12/2007  ...  679.118  476.753 2007-01-12\n",
              "33   Subempleo   ENEMDU  1/12/2008  ...  549.097  408.881 2008-01-12\n",
              "51   Subempleo   ENEMDU  1/12/2009  ...  636.204  435.411 2009-01-12\n",
              "69   Subempleo   ENEMDU  1/12/2010  ...  550.026  339.229 2010-01-12\n",
              "87   Subempleo   ENEMDU  1/12/2011  ...  428.949  277.509 2011-01-12\n",
              "\n",
              "[5 rows x 9 columns]"
            ]
          },
          "metadata": {},
          "execution_count": 28
        }
      ]
    },
    {
      "cell_type": "code",
      "metadata": {
        "colab": {
          "base_uri": "https://localhost:8080/",
          "height": 727
        },
        "id": "BMjS7VIW-UeD",
        "outputId": "aa7e42ea-59e0-4a18-a53d-4d1c6cbff1c3"
      },
      "source": [
        "subempleo['Total'] = subempleo['Total'].astype(str).str.replace('.','').astype(float)\n",
        "\n",
        "fig = plt.figure(figsize=(8,8))\n",
        "plt.title('HISTOGRAMA SUBEMPLEOS')\n",
        "plt.bar(subempleo['Periodo'], subempleo['Total'])\n",
        "plt.xlabel('FECHA')\n",
        "plt.xticks(rotation=90)\n",
        "plt.ylabel('TOTAL SUBEMPLEOS')\n",
        "plt.gca().set_xticks\n",
        "plt.gca().set_yticks"
      ],
      "execution_count": 35,
      "outputs": [
        {
          "output_type": "stream",
          "name": "stderr",
          "text": [
            "/usr/local/lib/python3.7/dist-packages/ipykernel_launcher.py:1: SettingWithCopyWarning:\n",
            "\n",
            "\n",
            "A value is trying to be set on a copy of a slice from a DataFrame.\n",
            "Try using .loc[row_indexer,col_indexer] = value instead\n",
            "\n",
            "See the caveats in the documentation: https://pandas.pydata.org/pandas-docs/stable/user_guide/indexing.html#returning-a-view-versus-a-copy\n",
            "\n"
          ]
        },
        {
          "output_type": "execute_result",
          "data": {
            "text/plain": [
              "<bound method _AxesBase.set_yticks of <matplotlib.axes._subplots.AxesSubplot object at 0x7fcba4bbef50>>"
            ]
          },
          "metadata": {},
          "execution_count": 35
        },
        {
          "output_type": "display_data",
          "data": {
            "image/png": "[encoded data removed]",
            "text/plain": [
              "<Figure size 576x576 with 1 Axes>"
            ]
          },
          "metadata": {
            "needs_background": "light"
          }
        }
      ]
    },
    {
      "cell_type": "code",
      "metadata": {
        "colab": {
          "base_uri": "https://localhost:8080/",
          "height": 727
        },
        "id": "MmGu9f9L_Vrt",
        "outputId": "3a89d24e-2609-49bb-97b7-e54330286e16"
      },
      "source": [
        "empleo_pleno['Total'] = empleo_pleno['Total'].astype(str).str.replace('.','').astype(float)\n",
        "\n",
        "fig = plt.figure(figsize=(8,8))\n",
        "plt.title('HISTOGRAMA EMPLEO PLENO')\n",
        "plt.bar(empleo_pleno['Periodo'], empleo_pleno['Total'])\n",
        "plt.xlabel('FECHA')\n",
        "plt.xticks(rotation=90)\n",
        "plt.ylabel('TOTAL EMPLEO PLENO')\n",
        "plt.gca().set_xticks\n",
        "plt.gca().set_yticks"
      ],
      "execution_count": 36,
      "outputs": [
        {
          "output_type": "stream",
          "name": "stderr",
          "text": [
            "/usr/local/lib/python3.7/dist-packages/ipykernel_launcher.py:1: SettingWithCopyWarning:\n",
            "\n",
            "\n",
            "A value is trying to be set on a copy of a slice from a DataFrame.\n",
            "Try using .loc[row_indexer,col_indexer] = value instead\n",
            "\n",
            "See the caveats in the documentation: https://pandas.pydata.org/pandas-docs/stable/user_guide/indexing.html#returning-a-view-versus-a-copy\n",
            "\n"
          ]
        },
        {
          "output_type": "execute_result",
          "data": {
            "text/plain": [
              "<bound method _AxesBase.set_yticks of <matplotlib.axes._subplots.AxesSubplot object at 0x7fcba4ada350>>"
            ]
          },
          "metadata": {},
          "execution_count": 36
        },
        {
          "output_type": "display_data",
          "data": {
            "image/png": "[encoded data removed]",
            "text/plain": [
              "<Figure size 576x576 with 1 Axes>"
            ]
          },
          "metadata": {
            "needs_background": "light"
          }
        }
      ]
    },
    {
      "cell_type": "code",
      "metadata": {
        "colab": {
          "base_uri": "https://localhost:8080/",
          "height": 727
        },
        "id": "AJzlUVavAOuZ",
        "outputId": "3d2f6003-43a3-45de-cda2-7699163517f5"
      },
      "source": [
        "empleo_no_pleno['Total'] = empleo_no_pleno['Total'].astype(str).str.replace('.','').astype(float)\n",
        "\n",
        "fig = plt.figure(figsize=(8,8))\n",
        "plt.title('HISTOGRAMA EMPLEO NO PLENO')\n",
        "plt.bar(empleo_no_pleno['Periodo'], empleo_no_pleno['Total'])\n",
        "plt.xlabel('FECHA')\n",
        "plt.xticks(rotation=90)\n",
        "plt.ylabel('TOTAL EMPLEO NO PLENO')\n",
        "plt.gca().set_xticks\n",
        "plt.gca().set_yticks"
      ],
      "execution_count": 37,
      "outputs": [
        {
          "output_type": "stream",
          "name": "stderr",
          "text": [
            "/usr/local/lib/python3.7/dist-packages/ipykernel_launcher.py:1: SettingWithCopyWarning:\n",
            "\n",
            "\n",
            "A value is trying to be set on a copy of a slice from a DataFrame.\n",
            "Try using .loc[row_indexer,col_indexer] = value instead\n",
            "\n",
            "See the caveats in the documentation: https://pandas.pydata.org/pandas-docs/stable/user_guide/indexing.html#returning-a-view-versus-a-copy\n",
            "\n"
          ]
        },
        {
          "output_type": "execute_result",
          "data": {
            "text/plain": [
              "<bound method _AxesBase.set_yticks of <matplotlib.axes._subplots.AxesSubplot object at 0x7fcba4b327d0>>"
            ]
          },
          "metadata": {},
          "execution_count": 37
        },
        {
          "output_type": "display_data",
          "data": {
            "image/png": "[encoded data removed]",
            "text/plain": [
              "<Figure size 576x576 with 1 Axes>"
            ]
          },
          "metadata": {
            "needs_background": "light"
          }
        }
      ]
    },
    {
      "cell_type": "code",
      "metadata": {
        "id": "U5zkTcoVAkFZ"
      },
      "source": [
        ""
      ],
      "execution_count": null,
      "outputs": []
    }
  ]
}